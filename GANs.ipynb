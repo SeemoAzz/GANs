{
  "cells": [
    {
      "cell_type": "code",
      "execution_count": 1,
      "metadata": {
        "id": "MNUqupvY0CX5"
      },
      "outputs": [],
      "source": [
        "import torch\n",
        "import torch.nn as nn\n",
        "import torch.optim as optim\n",
        "from torchvision import datasets, transforms\n",
        "from torch.utils.data import DataLoader\n",
        "import matplotlib.pyplot as plt\n"
      ]
    },
    {
      "cell_type": "code",
      "execution_count": 2,
      "metadata": {
        "colab": {
          "base_uri": "https://localhost:8080/"
        },
        "id": "sq6e2ypt0DI-",
        "outputId": "2fcab5f1-637c-4c2a-9b51-f9a180d77be0"
      },
      "outputs": [
        {
          "name": "stdout",
          "output_type": "stream",
          "text": [
            "Downloading http://yann.lecun.com/exdb/mnist/train-images-idx3-ubyte.gz\n",
            "Failed to download (trying next):\n",
            "HTTP Error 403: Forbidden\n",
            "\n",
            "Downloading https://ossci-datasets.s3.amazonaws.com/mnist/train-images-idx3-ubyte.gz\n",
            "Downloading https://ossci-datasets.s3.amazonaws.com/mnist/train-images-idx3-ubyte.gz to ./data/MNIST/raw/train-images-idx3-ubyte.gz\n"
          ]
        },
        {
          "name": "stderr",
          "output_type": "stream",
          "text": [
            "100%|██████████| 9.91M/9.91M [00:00<00:00, 18.3MB/s]\n"
          ]
        },
        {
          "name": "stdout",
          "output_type": "stream",
          "text": [
            "Extracting ./data/MNIST/raw/train-images-idx3-ubyte.gz to ./data/MNIST/raw\n",
            "\n",
            "Downloading http://yann.lecun.com/exdb/mnist/train-labels-idx1-ubyte.gz\n",
            "Failed to download (trying next):\n",
            "HTTP Error 403: Forbidden\n",
            "\n",
            "Downloading https://ossci-datasets.s3.amazonaws.com/mnist/train-labels-idx1-ubyte.gz\n",
            "Downloading https://ossci-datasets.s3.amazonaws.com/mnist/train-labels-idx1-ubyte.gz to ./data/MNIST/raw/train-labels-idx1-ubyte.gz\n"
          ]
        },
        {
          "name": "stderr",
          "output_type": "stream",
          "text": [
            "100%|██████████| 28.9k/28.9k [00:00<00:00, 494kB/s]\n"
          ]
        },
        {
          "name": "stdout",
          "output_type": "stream",
          "text": [
            "Extracting ./data/MNIST/raw/train-labels-idx1-ubyte.gz to ./data/MNIST/raw\n",
            "\n",
            "Downloading http://yann.lecun.com/exdb/mnist/t10k-images-idx3-ubyte.gz\n",
            "Failed to download (trying next):\n",
            "HTTP Error 403: Forbidden\n",
            "\n",
            "Downloading https://ossci-datasets.s3.amazonaws.com/mnist/t10k-images-idx3-ubyte.gz\n",
            "Downloading https://ossci-datasets.s3.amazonaws.com/mnist/t10k-images-idx3-ubyte.gz to ./data/MNIST/raw/t10k-images-idx3-ubyte.gz\n"
          ]
        },
        {
          "name": "stderr",
          "output_type": "stream",
          "text": [
            "100%|██████████| 1.65M/1.65M [00:00<00:00, 4.56MB/s]\n"
          ]
        },
        {
          "name": "stdout",
          "output_type": "stream",
          "text": [
            "Extracting ./data/MNIST/raw/t10k-images-idx3-ubyte.gz to ./data/MNIST/raw\n",
            "\n",
            "Downloading http://yann.lecun.com/exdb/mnist/t10k-labels-idx1-ubyte.gz\n",
            "Failed to download (trying next):\n",
            "HTTP Error 403: Forbidden\n",
            "\n",
            "Downloading https://ossci-datasets.s3.amazonaws.com/mnist/t10k-labels-idx1-ubyte.gz\n",
            "Downloading https://ossci-datasets.s3.amazonaws.com/mnist/t10k-labels-idx1-ubyte.gz to ./data/MNIST/raw/t10k-labels-idx1-ubyte.gz\n"
          ]
        },
        {
          "name": "stderr",
          "output_type": "stream",
          "text": [
            "100%|██████████| 4.54k/4.54k [00:00<00:00, 2.99MB/s]"
          ]
        },
        {
          "name": "stdout",
          "output_type": "stream",
          "text": [
            "Extracting ./data/MNIST/raw/t10k-labels-idx1-ubyte.gz to ./data/MNIST/raw\n",
            "\n"
          ]
        },
        {
          "name": "stderr",
          "output_type": "stream",
          "text": [
            "\n"
          ]
        }
      ],
      "source": [
        "transform = transforms.Compose([\n",
        "    transforms.ToTensor(),\n",
        "    transforms.Normalize([0.5], [0.5])\n",
        "])\n",
        "\n",
        "batch_size = 64\n",
        "mnist = datasets.MNIST(root=\"./data\", train=True, download=True, transform=transform)\n",
        "dataloader = DataLoader(mnist, batch_size=batch_size, shuffle=True)\n"
      ]
    },
    {
      "cell_type": "code",
      "execution_count": 3,
      "metadata": {
        "id": "ltsYoLZf0FFp"
      },
      "outputs": [],
      "source": [
        "class ConditionalGenerator(nn.Module):\n",
        "    def __init__(self, latent_dim, num_classes, img_dim):\n",
        "        super(ConditionalGenerator, self).__init__()\n",
        "        self.label_embedding = nn.Embedding(num_classes, num_classes)\n",
        "        self.model = nn.Sequential(\n",
        "            nn.Linear(latent_dim + num_classes, 128),\n",
        "            nn.LeakyReLU(0.2),\n",
        "            nn.Linear(128, 256),\n",
        "            nn.BatchNorm1d(256),\n",
        "            nn.LeakyReLU(0.2),\n",
        "            nn.Linear(256, 512),\n",
        "            nn.BatchNorm1d(512),\n",
        "            nn.LeakyReLU(0.2),\n",
        "            nn.Linear(512, img_dim),\n",
        "            nn.Tanh()\n",
        "        )\n",
        "\n",
        "    def forward(self, noise, labels):\n",
        "        label_input = self.label_embedding(labels)\n",
        "        gen_input = torch.cat((noise, label_input), dim=1)\n",
        "        img = self.model(gen_input)\n",
        "        return img.view(img.size(0), 1, 28, 28)\n"
      ]
    },
    {
      "cell_type": "code",
      "execution_count": 4,
      "metadata": {
        "id": "W4Adtz4I0IXi"
      },
      "outputs": [],
      "source": [
        "class ConditionalDiscriminator(nn.Module):\n",
        "    def __init__(self, num_classes, img_dim):\n",
        "        super(ConditionalDiscriminator, self).__init__()\n",
        "        self.label_embedding = nn.Embedding(num_classes, num_classes)\n",
        "        self.model = nn.Sequential(\n",
        "            nn.Linear(img_dim + num_classes, 512),\n",
        "            nn.LeakyReLU(0.2),\n",
        "            nn.Linear(512, 256),\n",
        "            nn.LeakyReLU(0.2),\n",
        "            nn.Linear(256, 1),\n",
        "            nn.Sigmoid()\n",
        "        )\n",
        "\n",
        "    def forward(self, img, labels):\n",
        "        img_flat = img.view(img.size(0), -1)\n",
        "        label_input = self.label_embedding(labels)\n",
        "        d_input = torch.cat((img_flat, label_input), dim=1)\n",
        "        validity = self.model(d_input)\n",
        "        return validity\n"
      ]
    },
    {
      "cell_type": "code",
      "execution_count": 5,
      "metadata": {
        "id": "qjKRy7790LCt"
      },
      "outputs": [],
      "source": [
        "latent_dim = 100\n",
        "num_classes = 10\n",
        "img_dim = 28 * 28\n",
        "\n",
        "generator = ConditionalGenerator(latent_dim, num_classes, img_dim).to(\"cuda\")\n",
        "discriminator = ConditionalDiscriminator(num_classes, img_dim).to(\"cuda\")\n",
        "\n",
        "adversarial_loss = nn.BCELoss()\n",
        "\n",
        "optimizer_G = optim.Adam(generator.parameters(), lr=0.0002, betas=(0.5, 0.999))\n",
        "optimizer_D = optim.Adam(discriminator.parameters(), lr=0.0002, betas=(0.5, 0.999))\n"
      ]
    },
    {
      "cell_type": "code",
      "execution_count": 6,
      "metadata": {
        "colab": {
          "base_uri": "https://localhost:8080/"
        },
        "id": "cQgBzUIa0OAh",
        "outputId": "ec709970-6b38-45e3-dadd-d93e3594c5c5"
      },
      "outputs": [
        {
          "name": "stdout",
          "output_type": "stream",
          "text": [
            "Epoch [1/50] Batch 0/938 Loss D: 0.6653, Loss G: 0.6578\n",
            "Epoch [1/50] Batch 200/938 Loss D: 0.6446, Loss G: 0.8417\n",
            "Epoch [1/50] Batch 400/938 Loss D: 0.6445, Loss G: 0.7561\n",
            "Epoch [1/50] Batch 600/938 Loss D: 0.5702, Loss G: 0.7104\n",
            "Epoch [1/50] Batch 800/938 Loss D: 0.5175, Loss G: 0.9871\n",
            "Epoch [2/50] Batch 0/938 Loss D: 0.4871, Loss G: 1.3945\n",
            "Epoch [2/50] Batch 200/938 Loss D: 0.5355, Loss G: 0.5828\n",
            "Epoch [2/50] Batch 400/938 Loss D: 0.4764, Loss G: 1.5336\n",
            "Epoch [2/50] Batch 600/938 Loss D: 0.4673, Loss G: 1.2862\n",
            "Epoch [2/50] Batch 800/938 Loss D: 0.4326, Loss G: 1.3822\n",
            "Epoch [3/50] Batch 0/938 Loss D: 0.7163, Loss G: 0.7306\n",
            "Epoch [3/50] Batch 200/938 Loss D: 0.4153, Loss G: 1.2397\n",
            "Epoch [3/50] Batch 400/938 Loss D: 0.4416, Loss G: 1.6034\n",
            "Epoch [3/50] Batch 600/938 Loss D: 0.5066, Loss G: 1.6184\n",
            "Epoch [3/50] Batch 800/938 Loss D: 0.4701, Loss G: 0.8216\n",
            "Epoch [4/50] Batch 0/938 Loss D: 0.5111, Loss G: 1.7235\n",
            "Epoch [4/50] Batch 200/938 Loss D: 0.5546, Loss G: 0.6388\n",
            "Epoch [4/50] Batch 400/938 Loss D: 0.7377, Loss G: 3.1739\n",
            "Epoch [4/50] Batch 600/938 Loss D: 0.3778, Loss G: 1.8522\n",
            "Epoch [4/50] Batch 800/938 Loss D: 0.3735, Loss G: 1.3871\n",
            "Epoch [5/50] Batch 0/938 Loss D: 0.5390, Loss G: 1.6356\n",
            "Epoch [5/50] Batch 200/938 Loss D: 0.5442, Loss G: 1.5916\n",
            "Epoch [5/50] Batch 400/938 Loss D: 0.4967, Loss G: 0.9650\n",
            "Epoch [5/50] Batch 600/938 Loss D: 0.4328, Loss G: 1.1120\n",
            "Epoch [5/50] Batch 800/938 Loss D: 0.5501, Loss G: 1.4686\n",
            "Epoch [6/50] Batch 0/938 Loss D: 0.5229, Loss G: 1.4756\n",
            "Epoch [6/50] Batch 200/938 Loss D: 0.5147, Loss G: 0.9459\n",
            "Epoch [6/50] Batch 400/938 Loss D: 0.5142, Loss G: 0.8258\n",
            "Epoch [6/50] Batch 600/938 Loss D: 0.5390, Loss G: 0.7168\n",
            "Epoch [6/50] Batch 800/938 Loss D: 0.5348, Loss G: 1.3477\n",
            "Epoch [7/50] Batch 0/938 Loss D: 0.6074, Loss G: 1.6956\n",
            "Epoch [7/50] Batch 200/938 Loss D: 0.5757, Loss G: 1.3040\n",
            "Epoch [7/50] Batch 400/938 Loss D: 0.5662, Loss G: 1.7024\n",
            "Epoch [7/50] Batch 600/938 Loss D: 0.6474, Loss G: 1.9658\n",
            "Epoch [7/50] Batch 800/938 Loss D: 0.5820, Loss G: 1.4682\n",
            "Epoch [8/50] Batch 0/938 Loss D: 0.5624, Loss G: 0.8600\n",
            "Epoch [8/50] Batch 200/938 Loss D: 0.5767, Loss G: 1.1877\n",
            "Epoch [8/50] Batch 400/938 Loss D: 0.5949, Loss G: 0.8917\n",
            "Epoch [8/50] Batch 600/938 Loss D: 0.5289, Loss G: 0.9813\n",
            "Epoch [8/50] Batch 800/938 Loss D: 0.6309, Loss G: 0.6412\n",
            "Epoch [9/50] Batch 0/938 Loss D: 0.6684, Loss G: 0.6135\n",
            "Epoch [9/50] Batch 200/938 Loss D: 0.5870, Loss G: 1.5272\n",
            "Epoch [9/50] Batch 400/938 Loss D: 0.5894, Loss G: 1.1333\n",
            "Epoch [9/50] Batch 600/938 Loss D: 0.6030, Loss G: 1.4157\n",
            "Epoch [9/50] Batch 800/938 Loss D: 0.5365, Loss G: 0.9942\n",
            "Epoch [10/50] Batch 0/938 Loss D: 0.6814, Loss G: 0.5852\n",
            "Epoch [10/50] Batch 200/938 Loss D: 0.6260, Loss G: 1.5368\n",
            "Epoch [10/50] Batch 400/938 Loss D: 0.6111, Loss G: 1.4002\n",
            "Epoch [10/50] Batch 600/938 Loss D: 0.6188, Loss G: 1.2830\n",
            "Epoch [10/50] Batch 800/938 Loss D: 0.5924, Loss G: 0.7761\n",
            "Epoch [11/50] Batch 0/938 Loss D: 0.6096, Loss G: 0.7936\n",
            "Epoch [11/50] Batch 200/938 Loss D: 0.6093, Loss G: 0.6421\n",
            "Epoch [11/50] Batch 400/938 Loss D: 0.6165, Loss G: 1.3408\n",
            "Epoch [11/50] Batch 600/938 Loss D: 0.6049, Loss G: 0.9451\n",
            "Epoch [11/50] Batch 800/938 Loss D: 0.5981, Loss G: 0.8920\n",
            "Epoch [12/50] Batch 0/938 Loss D: 0.6512, Loss G: 0.6417\n",
            "Epoch [12/50] Batch 200/938 Loss D: 0.6062, Loss G: 0.8303\n",
            "Epoch [12/50] Batch 400/938 Loss D: 0.5640, Loss G: 1.0901\n",
            "Epoch [12/50] Batch 600/938 Loss D: 0.6385, Loss G: 0.7026\n",
            "Epoch [12/50] Batch 800/938 Loss D: 0.6425, Loss G: 1.3924\n",
            "Epoch [13/50] Batch 0/938 Loss D: 0.5746, Loss G: 0.7899\n",
            "Epoch [13/50] Batch 200/938 Loss D: 0.6859, Loss G: 1.3187\n",
            "Epoch [13/50] Batch 400/938 Loss D: 0.6356, Loss G: 1.2386\n",
            "Epoch [13/50] Batch 600/938 Loss D: 0.6271, Loss G: 1.1429\n",
            "Epoch [13/50] Batch 800/938 Loss D: 0.6426, Loss G: 1.1957\n",
            "Epoch [14/50] Batch 0/938 Loss D: 0.6274, Loss G: 1.4842\n",
            "Epoch [14/50] Batch 200/938 Loss D: 0.6713, Loss G: 0.9307\n",
            "Epoch [14/50] Batch 400/938 Loss D: 0.6191, Loss G: 0.8208\n",
            "Epoch [14/50] Batch 600/938 Loss D: 0.5768, Loss G: 0.8832\n",
            "Epoch [14/50] Batch 800/938 Loss D: 0.6090, Loss G: 0.9248\n",
            "Epoch [15/50] Batch 0/938 Loss D: 0.6078, Loss G: 0.7613\n",
            "Epoch [15/50] Batch 200/938 Loss D: 0.6477, Loss G: 0.6017\n",
            "Epoch [15/50] Batch 400/938 Loss D: 0.6724, Loss G: 1.3759\n",
            "Epoch [15/50] Batch 600/938 Loss D: 0.6256, Loss G: 1.1487\n",
            "Epoch [15/50] Batch 800/938 Loss D: 0.5918, Loss G: 0.8457\n",
            "Epoch [16/50] Batch 0/938 Loss D: 0.6202, Loss G: 1.1449\n",
            "Epoch [16/50] Batch 200/938 Loss D: 0.6414, Loss G: 0.9553\n",
            "Epoch [16/50] Batch 400/938 Loss D: 0.6468, Loss G: 0.8474\n",
            "Epoch [16/50] Batch 600/938 Loss D: 0.6229, Loss G: 1.0931\n",
            "Epoch [16/50] Batch 800/938 Loss D: 0.6606, Loss G: 0.7399\n",
            "Epoch [17/50] Batch 0/938 Loss D: 0.5954, Loss G: 0.9449\n",
            "Epoch [17/50] Batch 200/938 Loss D: 0.5890, Loss G: 0.8566\n",
            "Epoch [17/50] Batch 400/938 Loss D: 0.5963, Loss G: 0.9959\n",
            "Epoch [17/50] Batch 600/938 Loss D: 0.6258, Loss G: 1.2080\n",
            "Epoch [17/50] Batch 800/938 Loss D: 0.6209, Loss G: 0.6465\n",
            "Epoch [18/50] Batch 0/938 Loss D: 0.6443, Loss G: 0.8996\n",
            "Epoch [18/50] Batch 200/938 Loss D: 0.6456, Loss G: 0.8267\n",
            "Epoch [18/50] Batch 400/938 Loss D: 0.6200, Loss G: 0.8209\n",
            "Epoch [18/50] Batch 600/938 Loss D: 0.6063, Loss G: 0.9362\n",
            "Epoch [18/50] Batch 800/938 Loss D: 0.6239, Loss G: 0.8731\n",
            "Epoch [19/50] Batch 0/938 Loss D: 0.5889, Loss G: 1.1389\n",
            "Epoch [19/50] Batch 200/938 Loss D: 0.5963, Loss G: 0.7449\n",
            "Epoch [19/50] Batch 400/938 Loss D: 0.6632, Loss G: 0.6876\n",
            "Epoch [19/50] Batch 600/938 Loss D: 0.6154, Loss G: 0.9317\n",
            "Epoch [19/50] Batch 800/938 Loss D: 0.6266, Loss G: 0.7378\n",
            "Epoch [20/50] Batch 0/938 Loss D: 0.6803, Loss G: 0.5513\n",
            "Epoch [20/50] Batch 200/938 Loss D: 0.6545, Loss G: 1.1994\n",
            "Epoch [20/50] Batch 400/938 Loss D: 0.6276, Loss G: 0.8527\n",
            "Epoch [20/50] Batch 600/938 Loss D: 0.7333, Loss G: 0.6052\n",
            "Epoch [20/50] Batch 800/938 Loss D: 0.6841, Loss G: 1.6771\n",
            "Epoch [21/50] Batch 0/938 Loss D: 0.6147, Loss G: 1.0101\n",
            "Epoch [21/50] Batch 200/938 Loss D: 0.6407, Loss G: 0.7294\n",
            "Epoch [21/50] Batch 400/938 Loss D: 0.6468, Loss G: 1.0560\n",
            "Epoch [21/50] Batch 600/938 Loss D: 0.5837, Loss G: 0.9130\n",
            "Epoch [21/50] Batch 800/938 Loss D: 0.6931, Loss G: 1.0153\n",
            "Epoch [22/50] Batch 0/938 Loss D: 0.6597, Loss G: 1.0561\n",
            "Epoch [22/50] Batch 200/938 Loss D: 0.6212, Loss G: 0.9352\n",
            "Epoch [22/50] Batch 400/938 Loss D: 0.6401, Loss G: 0.8169\n",
            "Epoch [22/50] Batch 600/938 Loss D: 0.6089, Loss G: 0.7476\n",
            "Epoch [22/50] Batch 800/938 Loss D: 0.6506, Loss G: 0.9464\n",
            "Epoch [23/50] Batch 0/938 Loss D: 0.6524, Loss G: 0.7591\n",
            "Epoch [23/50] Batch 200/938 Loss D: 0.6387, Loss G: 0.9573\n",
            "Epoch [23/50] Batch 400/938 Loss D: 0.6305, Loss G: 1.0161\n",
            "Epoch [23/50] Batch 600/938 Loss D: 0.6690, Loss G: 0.7404\n",
            "Epoch [23/50] Batch 800/938 Loss D: 0.6064, Loss G: 1.1328\n",
            "Epoch [24/50] Batch 0/938 Loss D: 0.5838, Loss G: 0.9206\n",
            "Epoch [24/50] Batch 200/938 Loss D: 0.6070, Loss G: 1.1581\n",
            "Epoch [24/50] Batch 400/938 Loss D: 0.6076, Loss G: 0.8686\n",
            "Epoch [24/50] Batch 600/938 Loss D: 0.5828, Loss G: 0.9941\n",
            "Epoch [24/50] Batch 800/938 Loss D: 0.5957, Loss G: 1.0192\n",
            "Epoch [25/50] Batch 0/938 Loss D: 0.6525, Loss G: 0.7427\n",
            "Epoch [25/50] Batch 200/938 Loss D: 0.6142, Loss G: 0.9149\n",
            "Epoch [25/50] Batch 400/938 Loss D: 0.6329, Loss G: 0.8429\n",
            "Epoch [25/50] Batch 600/938 Loss D: 0.6629, Loss G: 0.8385\n",
            "Epoch [25/50] Batch 800/938 Loss D: 0.6297, Loss G: 1.0322\n",
            "Epoch [26/50] Batch 0/938 Loss D: 0.6274, Loss G: 0.9641\n",
            "Epoch [26/50] Batch 200/938 Loss D: 0.6180, Loss G: 0.9379\n",
            "Epoch [26/50] Batch 400/938 Loss D: 0.6663, Loss G: 1.1009\n",
            "Epoch [26/50] Batch 600/938 Loss D: 0.6169, Loss G: 0.6748\n",
            "Epoch [26/50] Batch 800/938 Loss D: 0.6191, Loss G: 1.2171\n",
            "Epoch [27/50] Batch 0/938 Loss D: 0.6305, Loss G: 0.9405\n",
            "Epoch [27/50] Batch 200/938 Loss D: 0.6251, Loss G: 0.6951\n",
            "Epoch [27/50] Batch 400/938 Loss D: 0.6713, Loss G: 0.8021\n",
            "Epoch [27/50] Batch 600/938 Loss D: 0.6988, Loss G: 1.0247\n",
            "Epoch [27/50] Batch 800/938 Loss D: 0.6298, Loss G: 0.9799\n",
            "Epoch [28/50] Batch 0/938 Loss D: 0.6187, Loss G: 0.9777\n",
            "Epoch [28/50] Batch 200/938 Loss D: 0.6265, Loss G: 0.7943\n",
            "Epoch [28/50] Batch 400/938 Loss D: 0.6706, Loss G: 0.7788\n",
            "Epoch [28/50] Batch 600/938 Loss D: 0.6636, Loss G: 1.1303\n",
            "Epoch [28/50] Batch 800/938 Loss D: 0.6126, Loss G: 0.8939\n",
            "Epoch [29/50] Batch 0/938 Loss D: 0.6006, Loss G: 1.1058\n",
            "Epoch [29/50] Batch 200/938 Loss D: 0.6371, Loss G: 0.8574\n",
            "Epoch [29/50] Batch 400/938 Loss D: 0.6168, Loss G: 1.0838\n",
            "Epoch [29/50] Batch 600/938 Loss D: 0.6766, Loss G: 0.9979\n",
            "Epoch [29/50] Batch 800/938 Loss D: 0.6049, Loss G: 1.0305\n",
            "Epoch [30/50] Batch 0/938 Loss D: 0.5855, Loss G: 0.9509\n",
            "Epoch [30/50] Batch 200/938 Loss D: 0.6101, Loss G: 1.0322\n",
            "Epoch [30/50] Batch 400/938 Loss D: 0.6573, Loss G: 1.1679\n",
            "Epoch [30/50] Batch 600/938 Loss D: 0.6363, Loss G: 1.0833\n",
            "Epoch [30/50] Batch 800/938 Loss D: 0.5890, Loss G: 0.9874\n",
            "Epoch [31/50] Batch 0/938 Loss D: 0.6409, Loss G: 0.8055\n",
            "Epoch [31/50] Batch 200/938 Loss D: 0.6899, Loss G: 0.9571\n",
            "Epoch [31/50] Batch 400/938 Loss D: 0.6085, Loss G: 1.0261\n",
            "Epoch [31/50] Batch 600/938 Loss D: 0.6528, Loss G: 0.7228\n",
            "Epoch [31/50] Batch 800/938 Loss D: 0.6555, Loss G: 1.1398\n",
            "Epoch [32/50] Batch 0/938 Loss D: 0.6284, Loss G: 0.8446\n",
            "Epoch [32/50] Batch 200/938 Loss D: 0.6420, Loss G: 0.9011\n",
            "Epoch [32/50] Batch 400/938 Loss D: 0.6749, Loss G: 1.0347\n",
            "Epoch [32/50] Batch 600/938 Loss D: 0.6095, Loss G: 0.8393\n",
            "Epoch [32/50] Batch 800/938 Loss D: 0.6146, Loss G: 1.0289\n",
            "Epoch [33/50] Batch 0/938 Loss D: 0.6495, Loss G: 1.0259\n",
            "Epoch [33/50] Batch 200/938 Loss D: 0.6637, Loss G: 0.6607\n",
            "Epoch [33/50] Batch 400/938 Loss D: 0.6529, Loss G: 0.7518\n",
            "Epoch [33/50] Batch 600/938 Loss D: 0.6376, Loss G: 0.8625\n",
            "Epoch [33/50] Batch 800/938 Loss D: 0.6709, Loss G: 0.8208\n",
            "Epoch [34/50] Batch 0/938 Loss D: 0.6336, Loss G: 0.9824\n",
            "Epoch [34/50] Batch 200/938 Loss D: 0.6249, Loss G: 1.0105\n",
            "Epoch [34/50] Batch 400/938 Loss D: 0.6716, Loss G: 0.9982\n",
            "Epoch [34/50] Batch 600/938 Loss D: 0.6301, Loss G: 0.7830\n",
            "Epoch [34/50] Batch 800/938 Loss D: 0.6185, Loss G: 0.7628\n",
            "Epoch [35/50] Batch 0/938 Loss D: 0.6269, Loss G: 0.8528\n",
            "Epoch [35/50] Batch 200/938 Loss D: 0.6422, Loss G: 0.6956\n",
            "Epoch [35/50] Batch 400/938 Loss D: 0.6654, Loss G: 1.3816\n",
            "Epoch [35/50] Batch 600/938 Loss D: 0.6279, Loss G: 0.9404\n",
            "Epoch [35/50] Batch 800/938 Loss D: 0.6614, Loss G: 1.0324\n",
            "Epoch [36/50] Batch 0/938 Loss D: 0.6506, Loss G: 1.0827\n",
            "Epoch [36/50] Batch 200/938 Loss D: 0.5784, Loss G: 1.0876\n",
            "Epoch [36/50] Batch 400/938 Loss D: 0.6702, Loss G: 0.7283\n",
            "Epoch [36/50] Batch 600/938 Loss D: 0.6177, Loss G: 0.8451\n",
            "Epoch [36/50] Batch 800/938 Loss D: 0.6651, Loss G: 0.8632\n",
            "Epoch [37/50] Batch 0/938 Loss D: 0.6364, Loss G: 1.2997\n",
            "Epoch [37/50] Batch 200/938 Loss D: 0.6109, Loss G: 1.1979\n",
            "Epoch [37/50] Batch 400/938 Loss D: 0.6656, Loss G: 0.9774\n",
            "Epoch [37/50] Batch 600/938 Loss D: 0.6412, Loss G: 1.3240\n",
            "Epoch [37/50] Batch 800/938 Loss D: 0.6491, Loss G: 0.9439\n",
            "Epoch [38/50] Batch 0/938 Loss D: 0.6308, Loss G: 0.6675\n",
            "Epoch [38/50] Batch 200/938 Loss D: 0.6375, Loss G: 0.9591\n",
            "Epoch [38/50] Batch 400/938 Loss D: 0.6206, Loss G: 1.3275\n",
            "Epoch [38/50] Batch 600/938 Loss D: 0.6332, Loss G: 0.8607\n",
            "Epoch [38/50] Batch 800/938 Loss D: 0.6343, Loss G: 0.7848\n",
            "Epoch [39/50] Batch 0/938 Loss D: 0.6335, Loss G: 0.8656\n",
            "Epoch [39/50] Batch 200/938 Loss D: 0.6479, Loss G: 0.8894\n",
            "Epoch [39/50] Batch 400/938 Loss D: 0.6325, Loss G: 1.3196\n",
            "Epoch [39/50] Batch 600/938 Loss D: 0.6218, Loss G: 0.8485\n",
            "Epoch [39/50] Batch 800/938 Loss D: 0.6470, Loss G: 0.8241\n",
            "Epoch [40/50] Batch 0/938 Loss D: 0.6375, Loss G: 1.1089\n",
            "Epoch [40/50] Batch 200/938 Loss D: 0.6076, Loss G: 0.9802\n",
            "Epoch [40/50] Batch 400/938 Loss D: 0.6677, Loss G: 0.8179\n",
            "Epoch [40/50] Batch 600/938 Loss D: 0.6679, Loss G: 0.9073\n",
            "Epoch [40/50] Batch 800/938 Loss D: 0.6317, Loss G: 0.9682\n",
            "Epoch [41/50] Batch 0/938 Loss D: 0.6161, Loss G: 1.1111\n",
            "Epoch [41/50] Batch 200/938 Loss D: 0.6301, Loss G: 0.9112\n",
            "Epoch [41/50] Batch 400/938 Loss D: 0.6064, Loss G: 1.1533\n",
            "Epoch [41/50] Batch 600/938 Loss D: 0.6220, Loss G: 1.0043\n",
            "Epoch [41/50] Batch 800/938 Loss D: 0.6237, Loss G: 1.0901\n",
            "Epoch [42/50] Batch 0/938 Loss D: 0.6655, Loss G: 0.9069\n",
            "Epoch [42/50] Batch 200/938 Loss D: 0.6350, Loss G: 1.1124\n",
            "Epoch [42/50] Batch 400/938 Loss D: 0.6515, Loss G: 1.0154\n",
            "Epoch [42/50] Batch 600/938 Loss D: 0.6117, Loss G: 0.9366\n",
            "Epoch [42/50] Batch 800/938 Loss D: 0.6323, Loss G: 0.7603\n",
            "Epoch [43/50] Batch 0/938 Loss D: 0.6493, Loss G: 0.8820\n",
            "Epoch [43/50] Batch 200/938 Loss D: 0.5915, Loss G: 1.1961\n",
            "Epoch [43/50] Batch 400/938 Loss D: 0.6064, Loss G: 1.0069\n",
            "Epoch [43/50] Batch 600/938 Loss D: 0.5748, Loss G: 0.8445\n",
            "Epoch [43/50] Batch 800/938 Loss D: 0.6403, Loss G: 1.2932\n",
            "Epoch [44/50] Batch 0/938 Loss D: 0.6404, Loss G: 1.0679\n",
            "Epoch [44/50] Batch 200/938 Loss D: 0.6214, Loss G: 0.9041\n",
            "Epoch [44/50] Batch 400/938 Loss D: 0.6423, Loss G: 1.1047\n",
            "Epoch [44/50] Batch 600/938 Loss D: 0.6118, Loss G: 0.9703\n",
            "Epoch [44/50] Batch 800/938 Loss D: 0.6321, Loss G: 1.0042\n",
            "Epoch [45/50] Batch 0/938 Loss D: 0.6351, Loss G: 0.9118\n",
            "Epoch [45/50] Batch 200/938 Loss D: 0.6316, Loss G: 1.0537\n",
            "Epoch [45/50] Batch 400/938 Loss D: 0.6646, Loss G: 0.9336\n",
            "Epoch [45/50] Batch 600/938 Loss D: 0.6362, Loss G: 0.7786\n",
            "Epoch [45/50] Batch 800/938 Loss D: 0.6561, Loss G: 0.9316\n",
            "Epoch [46/50] Batch 0/938 Loss D: 0.6154, Loss G: 0.8816\n",
            "Epoch [46/50] Batch 200/938 Loss D: 0.5856, Loss G: 1.1355\n",
            "Epoch [46/50] Batch 400/938 Loss D: 0.6752, Loss G: 0.8167\n",
            "Epoch [46/50] Batch 600/938 Loss D: 0.6210, Loss G: 0.8297\n",
            "Epoch [46/50] Batch 800/938 Loss D: 0.6149, Loss G: 0.8370\n",
            "Epoch [47/50] Batch 0/938 Loss D: 0.6688, Loss G: 1.0050\n",
            "Epoch [47/50] Batch 200/938 Loss D: 0.6718, Loss G: 0.7615\n",
            "Epoch [47/50] Batch 400/938 Loss D: 0.6207, Loss G: 1.2788\n",
            "Epoch [47/50] Batch 600/938 Loss D: 0.6147, Loss G: 0.9774\n",
            "Epoch [47/50] Batch 800/938 Loss D: 0.6424, Loss G: 1.0054\n",
            "Epoch [48/50] Batch 0/938 Loss D: 0.6378, Loss G: 1.0456\n",
            "Epoch [48/50] Batch 200/938 Loss D: 0.6735, Loss G: 0.8879\n",
            "Epoch [48/50] Batch 400/938 Loss D: 0.6140, Loss G: 1.0647\n",
            "Epoch [48/50] Batch 600/938 Loss D: 0.6183, Loss G: 0.9390\n",
            "Epoch [48/50] Batch 800/938 Loss D: 0.6247, Loss G: 1.0310\n",
            "Epoch [49/50] Batch 0/938 Loss D: 0.6799, Loss G: 1.1713\n",
            "Epoch [49/50] Batch 200/938 Loss D: 0.6145, Loss G: 0.8935\n",
            "Epoch [49/50] Batch 400/938 Loss D: 0.6504, Loss G: 0.8715\n",
            "Epoch [49/50] Batch 600/938 Loss D: 0.6187, Loss G: 1.1239\n",
            "Epoch [49/50] Batch 800/938 Loss D: 0.6390, Loss G: 0.8853\n",
            "Epoch [50/50] Batch 0/938 Loss D: 0.6044, Loss G: 0.7310\n",
            "Epoch [50/50] Batch 200/938 Loss D: 0.5767, Loss G: 0.9073\n",
            "Epoch [50/50] Batch 400/938 Loss D: 0.6021, Loss G: 0.8950\n",
            "Epoch [50/50] Batch 600/938 Loss D: 0.6287, Loss G: 0.8127\n",
            "Epoch [50/50] Batch 800/938 Loss D: 0.6336, Loss G: 0.9131\n"
          ]
        }
      ],
      "source": [
        "epochs = 50\n",
        "device = \"cuda\"\n",
        "\n",
        "for epoch in range(epochs):\n",
        "    for i, (imgs, labels) in enumerate(dataloader):\n",
        "        batch_size = imgs.size(0)\n",
        "        real_imgs = imgs.to(device)\n",
        "        labels = labels.to(device)\n",
        "\n",
        "\n",
        "        valid = torch.ones(batch_size, 1).to(device)\n",
        "        fake = torch.zeros(batch_size, 1).to(device)\n",
        "\n",
        "        z = torch.randn(batch_size, latent_dim).to(device)\n",
        "        gen_labels = torch.randint(0, num_classes, (batch_size,)).to(device)\n",
        "        gen_imgs = generator(z, gen_labels)\n",
        "\n",
        "        real_loss = adversarial_loss(discriminator(real_imgs, labels), valid)\n",
        "        fake_loss = adversarial_loss(discriminator(gen_imgs.detach(), gen_labels), fake)\n",
        "        d_loss = (real_loss + fake_loss) / 2\n",
        "\n",
        "        optimizer_D.zero_grad()\n",
        "        d_loss.backward()\n",
        "        optimizer_D.step()\n",
        "\n",
        "        g_loss = adversarial_loss(discriminator(gen_imgs, gen_labels), valid)\n",
        "\n",
        "        optimizer_G.zero_grad()\n",
        "        g_loss.backward()\n",
        "        optimizer_G.step()\n",
        "\n",
        "        if i % 200 == 0:\n",
        "            print(f\"Epoch [{epoch+1}/{epochs}] Batch {i}/{len(dataloader)} \"\n",
        "                  f\"Loss D: {d_loss.item():.4f}, Loss G: {g_loss.item():.4f}\")\n"
      ]
    },
    {
      "cell_type": "code",
      "execution_count": 9,
      "metadata": {
        "colab": {
          "base_uri": "https://localhost:8080/",
          "height": 560
        },
        "id": "FWuB5PlS0UEo",
        "outputId": "2cd29d43-5276-4407-c691-19adcf524135"
      },
      "outputs": [
        {
          "data": {
            "image/png": "[encoded data removed]",
            "text/plain": [
              "<Figure size 1200x600 with 10 Axes>"
            ]
          },
          "metadata": {},
          "output_type": "display_data"
        }
      ],
      "source": [
        "z = torch.randn(10, latent_dim).to(device)\n",
        "labels = torch.arange(0, 10).to(device)\n",
        "gen_imgs = generator(z, labels).detach().cpu()\n",
        "\n",
        "\n",
        "plt.figure(figsize=(12, 6))\n",
        "for i in range(10):\n",
        "    plt.subplot(2, 5, i + 1)\n",
        "    plt.imshow(gen_imgs[i, 0], cmap=\"gray\")\n",
        "    plt.title(f\"Label: {labels[i].item()}\")\n",
        "    plt.axis(\"off\")\n",
        "plt.tight_layout()\n",
        "plt.show()\n"
      ]
    }
  ],
  "metadata": {
    "accelerator": "GPU",
    "colab": {
      "gpuType": "T4",
      "provenance": []
    },
    "kernelspec": {
      "display_name": "Python 3",
      "name": "python3"
    },
    "language_info": {
      "name": "python"
    }
  },
  "nbformat": 4,
  "nbformat_minor": 0
}
